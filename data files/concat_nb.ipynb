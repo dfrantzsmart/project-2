{
 "cells": [
  {
   "cell_type": "code",
   "execution_count": 1,
   "metadata": {},
   "outputs": [],
   "source": [
    "import pandas as pd"
   ]
  },
  {
   "cell_type": "code",
   "execution_count": 4,
   "metadata": {},
   "outputs": [],
   "source": [
    "df_1 = pd.read_csv('turnstile_190706.txt')\n",
    "df_2 = pd.read_csv('turnstile_190713.txt')\n",
    "df_3 = pd.read_csv('turnstile_190720.txt')\n",
    "df_4 = pd.read_csv('turnstile_190727.txt')\n",
    "df_5 = pd.read_csv('turnstile_190803.txt')\n",
    "df_6 = pd.read_csv('turnstile_190810.txt')\n",
    "df_7 = pd.read_csv('turnstile_190817.txt')\n",
    "df_8 = pd.read_csv('turnstile_190824.txt')\n",
    "df_9 = pd.read_csv('turnstile_190831.txt')"
   ]
  },
  {
   "cell_type": "code",
   "execution_count": 12,
   "metadata": {},
   "outputs": [],
   "source": [
    "combined_df = df_1.append(df_2).\\\n",
    "                    append(df_3).\\\n",
    "                    append(df_4).\\\n",
    "                    append(df_5).\\\n",
    "                    append(df_6).\\\n",
    "                    append(df_7).\\\n",
    "                    append(df_8).\\\n",
    "                    append(df_9)"
   ]
  },
  {
   "cell_type": "code",
   "execution_count": 10,
   "metadata": {},
   "outputs": [
    {
     "data": {
      "text/plain": [
       "<bound method NDFrame.describe of           C/A  UNIT       SCP        STATION LINENAME DIVISION        DATE  \\\n",
       "0        A002  R051  02-00-00          59 ST  NQR456W      BMT  06/29/2019   \n",
       "1        A002  R051  02-00-00          59 ST  NQR456W      BMT  06/29/2019   \n",
       "2        A002  R051  02-00-00          59 ST  NQR456W      BMT  06/29/2019   \n",
       "3        A002  R051  02-00-00          59 ST  NQR456W      BMT  06/29/2019   \n",
       "4        A002  R051  02-00-00          59 ST  NQR456W      BMT  06/29/2019   \n",
       "...       ...   ...       ...            ...      ...      ...         ...   \n",
       "205258  TRAM2  R469  00-05-01  RIT-ROOSEVELT        R      RIT  08/30/2019   \n",
       "205259  TRAM2  R469  00-05-01  RIT-ROOSEVELT        R      RIT  08/30/2019   \n",
       "205260  TRAM2  R469  00-05-01  RIT-ROOSEVELT        R      RIT  08/30/2019   \n",
       "205261  TRAM2  R469  00-05-01  RIT-ROOSEVELT        R      RIT  08/30/2019   \n",
       "205262  TRAM2  R469  00-05-01  RIT-ROOSEVELT        R      RIT  08/30/2019   \n",
       "\n",
       "            TIME     DESC  ENTRIES  \\\n",
       "0       00:00:00  REGULAR  7116734   \n",
       "1       08:00:00  REGULAR  7116770   \n",
       "2       12:00:00  REGULAR  7116856   \n",
       "3       16:00:00  REGULAR  7117076   \n",
       "4       20:00:00  REGULAR  7117340   \n",
       "...          ...      ...      ...   \n",
       "205258  05:00:00  REGULAR     5554   \n",
       "205259  09:00:00  REGULAR     5554   \n",
       "205260  13:00:00  REGULAR     5554   \n",
       "205261  17:00:00  REGULAR     5554   \n",
       "205262  21:00:00  REGULAR     5554   \n",
       "\n",
       "        EXITS                                                                 \n",
       "0                                                 2410183                     \n",
       "1                                                 2410218                     \n",
       "2                                                 2410288                     \n",
       "3                                                 2410346                     \n",
       "4                                                 2410387                     \n",
       "...                                                   ...                     \n",
       "205258                                                389                     \n",
       "205259                                                389                     \n",
       "205260                                                389                     \n",
       "205261                                                389                     \n",
       "205262                                                389                     \n",
       "\n",
       "[1866240 rows x 11 columns]>"
      ]
     },
     "execution_count": 10,
     "metadata": {},
     "output_type": "execute_result"
    }
   ],
   "source": [
    "combined_df.describe"
   ]
  },
  {
   "cell_type": "code",
   "execution_count": 14,
   "metadata": {},
   "outputs": [],
   "source": [
    "# this path will need to be changed\n",
    "#combined_df.to_csv('combined_data.csv')"
   ]
  },
  {
   "cell_type": "code",
   "execution_count": null,
   "metadata": {},
   "outputs": [],
   "source": []
  }
 ],
 "metadata": {
  "kernelspec": {
   "display_name": "Python [conda env:metis] *",
   "language": "python",
   "name": "conda-env-metis-py"
  },
  "language_info": {
   "codemirror_mode": {
    "name": "ipython",
    "version": 3
   },
   "file_extension": ".py",
   "mimetype": "text/x-python",
   "name": "python",
   "nbconvert_exporter": "python",
   "pygments_lexer": "ipython3",
   "version": "3.8.5"
  }
 },
 "nbformat": 4,
 "nbformat_minor": 4
}
