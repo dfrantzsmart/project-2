{
 "cells": [
  {
   "cell_type": "code",
   "execution_count": 2,
   "metadata": {},
   "outputs": [],
   "source": [
    "# Challenge 1\n",
    "\n",
    "# read in the data:\n",
    "import pandas as pd\n",
    "df_1 = pd.read_csv('data files/turnstile_190706.txt')\n",
    "df_2 = pd.read_csv('data files/turnstile_190713.txt')\n",
    "df_3 = pd.read_csv('data files/turnstile_190720.txt')\n",
    "df_4 = pd.read_csv('data files/turnstile_190727.txt')\n",
    "df_5 = pd.read_csv('data files/turnstile_190803.txt')\n",
    "df_6 = pd.read_csv('data files/turnstile_190810.txt')\n",
    "df_7 = pd.read_csv('data files/turnstile_190817.txt')\n",
    "df_8 = pd.read_csv('data files/turnstile_190824.txt')\n",
    "df_9 = pd.read_csv('data files/turnstile_190831.txt')\n",
    "\n",
    "#concatenate\n",
    "df = pd.concat([df_1, df_2, df_3, df_4, df_5, df_6, df_7, df_8, df_9])"
   ]
  },
  {
   "cell_type": "code",
   "execution_count": 3,
   "metadata": {},
   "outputs": [
    {
     "name": "stdout",
     "output_type": "stream",
     "text": [
      "Index(['C/A', 'UNIT', 'SCP', 'STATION', 'LINENAME', 'DIVISION', 'DATE', 'TIME',\n",
      "       'DESC', 'ENTRIES',\n",
      "       'EXITS                                                               '],\n",
      "      dtype='object')\n",
      "Index(['C/A', 'UNIT', 'SCP', 'STATION', 'LINENAME', 'DIVISION', 'DATE', 'TIME',\n",
      "       'DESC', 'ENTRIES', 'EXITS'],\n",
      "      dtype='object')\n"
     ]
    }
   ],
   "source": [
    "# Column name 'EXITS' needs to be formatted to remove extra spaces\n",
    "print(df.columns)\n",
    "df.rename(columns={df.columns[10]:'EXITS'}, inplace=True)\n",
    "print(df.columns)"
   ]
  },
  {
   "cell_type": "code",
   "execution_count": 4,
   "metadata": {},
   "outputs": [
    {
     "name": "stdout",
     "output_type": "stream",
     "text": [
      "<class 'str'> <class 'str'>\n",
      "    C/A  UNIT       SCP STATION LINENAME DIVISION        DATE      TIME  \\\n",
      "0  A002  R051  02-00-00   59 ST  NQR456W      BMT  06/29/2019  00:00:00   \n",
      "1  A002  R051  02-00-00   59 ST  NQR456W      BMT  06/29/2019  08:00:00   \n",
      "2  A002  R051  02-00-00   59 ST  NQR456W      BMT  06/29/2019  12:00:00   \n",
      "3  A002  R051  02-00-00   59 ST  NQR456W      BMT  06/29/2019  16:00:00   \n",
      "4  A002  R051  02-00-00   59 ST  NQR456W      BMT  06/29/2019  20:00:00   \n",
      "\n",
      "      DESC  ENTRIES    EXITS            DATETIME  \n",
      "0  REGULAR  7116734  2410183 2019-06-29 00:00:00  \n",
      "1  REGULAR  7116770  2410218 2019-06-29 08:00:00  \n",
      "2  REGULAR  7116856  2410288 2019-06-29 12:00:00  \n",
      "3  REGULAR  7117076  2410346 2019-06-29 16:00:00  \n",
      "4  REGULAR  7117340  2410387 2019-06-29 20:00:00  \n"
     ]
    }
   ],
   "source": [
    "# Challenge 2\n",
    "\n",
    "# What data type did pandas assign values in columns 'Date' and 'Time'?\n",
    "print(type(df.DATE.iloc[0]), type(df.TIME.iloc[0]))\n",
    "\n",
    "# Combine 'Date' and 'Time' columns and format into a datetime object\n",
    "df['DATETIME'] = pd.to_datetime(df['DATE']+ ' ' + df['TIME'])\n",
    "print(df.head())"
   ]
  },
  {
   "cell_type": "code",
   "execution_count": null,
   "metadata": {},
   "outputs": [],
   "source": []
  },
  {
   "cell_type": "code",
   "execution_count": null,
   "metadata": {},
   "outputs": [],
   "source": []
  },
  {
   "cell_type": "code",
   "execution_count": null,
   "metadata": {},
   "outputs": [],
   "source": []
  },
  {
   "cell_type": "code",
   "execution_count": null,
   "metadata": {},
   "outputs": [],
   "source": []
  },
  {
   "cell_type": "code",
   "execution_count": null,
   "metadata": {},
   "outputs": [],
   "source": []
  },
  {
   "cell_type": "code",
   "execution_count": null,
   "metadata": {},
   "outputs": [],
   "source": []
  },
  {
   "cell_type": "code",
   "execution_count": 12,
   "metadata": {},
   "outputs": [],
   "source": []
  },
  {
   "cell_type": "code",
   "execution_count": null,
   "metadata": {},
   "outputs": [],
   "source": []
  }
 ],
 "metadata": {
  "kernelspec": {
   "display_name": "Python 3",
   "language": "python",
   "name": "python3"
  },
  "language_info": {
   "codemirror_mode": {
    "name": "ipython",
    "version": 3
   },
   "file_extension": ".py",
   "mimetype": "text/x-python",
   "name": "python",
   "nbconvert_exporter": "python",
   "pygments_lexer": "ipython3",
   "version": "3.8.3"
  }
 },
 "nbformat": 4,
 "nbformat_minor": 4
}
