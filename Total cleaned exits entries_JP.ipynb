{
 "cells": [
  {
   "cell_type": "code",
   "execution_count": 1,
   "metadata": {},
   "outputs": [],
   "source": [
    "import matplotlib.pyplot as plt\n",
    "import numpy as np\n",
    "import pandas as pd"
   ]
  },
  {
   "cell_type": "code",
   "execution_count": 2,
   "metadata": {},
   "outputs": [],
   "source": [
    "\n",
    "# Challenge 1\n",
    "\n",
    "# read in the data:\n",
    "import pandas as pd\n",
    "df_1 = pd.read_csv('data files/turnstile_190706.txt')\n",
    "df_2 = pd.read_csv('data files/turnstile_190713.txt')\n",
    "df_3 = pd.read_csv('data files/turnstile_190720.txt')\n",
    "df_4 = pd.read_csv('data files/turnstile_190727.txt')\n",
    "df_5 = pd.read_csv('data files/turnstile_190803.txt')\n",
    "df_6 = pd.read_csv('data files/turnstile_190810.txt')\n",
    "df_7 = pd.read_csv('data files/turnstile_190817.txt')\n",
    "df_8 = pd.read_csv('data files/turnstile_190824.txt')\n",
    "df_9 = pd.read_csv('data files/turnstile_190831.txt')\n",
    "\n",
    "#concatenate\n",
    "df_combined = pd.concat([df_1, df_2, df_3, df_4, df_5, df_6, df_7, df_8, df_9])"
   ]
  },
  {
   "cell_type": "code",
   "execution_count": 3,
   "metadata": {},
   "outputs": [
    {
     "name": "stdout",
     "output_type": "stream",
     "text": [
      "Index(['C/A', 'UNIT', 'SCP', 'STATION', 'LINENAME', 'DIVISION', 'DATE', 'TIME',\n",
      "       'DESC', 'ENTRIES',\n",
      "       'EXITS                                                               '],\n",
      "      dtype='object')\n",
      "Index(['C/A', 'UNIT', 'SCP', 'STATION', 'LINENAME', 'DIVISION', 'DATE', 'TIME',\n",
      "       'DESC', 'ENTRIES', 'EXITS'],\n",
      "      dtype='object')\n"
     ]
    }
   ],
   "source": [
    "# Column name 'EXITS' needs to be formatted to remove extra spaces\n",
    "print(df_combined.columns)\n",
    "df_combined.rename(columns={df_combined.columns[10]:'EXITS'}, inplace=True)\n",
    "print(df_combined.columns)"
   ]
  },
  {
   "cell_type": "code",
   "execution_count": 4,
   "metadata": {},
   "outputs": [
    {
     "name": "stdout",
     "output_type": "stream",
     "text": [
      "<class 'str'> <class 'str'>\n",
      "    C/A  UNIT       SCP STATION LINENAME DIVISION        DATE      TIME  \\\n",
      "0  A002  R051  02-00-00   59 ST  NQR456W      BMT  06/29/2019  00:00:00   \n",
      "1  A002  R051  02-00-00   59 ST  NQR456W      BMT  06/29/2019  08:00:00   \n",
      "2  A002  R051  02-00-00   59 ST  NQR456W      BMT  06/29/2019  12:00:00   \n",
      "3  A002  R051  02-00-00   59 ST  NQR456W      BMT  06/29/2019  16:00:00   \n",
      "4  A002  R051  02-00-00   59 ST  NQR456W      BMT  06/29/2019  20:00:00   \n",
      "\n",
      "      DESC  ENTRIES    EXITS            DATETIME  \n",
      "0  REGULAR  7116734  2410183 2019-06-29 00:00:00  \n",
      "1  REGULAR  7116770  2410218 2019-06-29 08:00:00  \n",
      "2  REGULAR  7116856  2410288 2019-06-29 12:00:00  \n",
      "3  REGULAR  7117076  2410346 2019-06-29 16:00:00  \n",
      "4  REGULAR  7117340  2410387 2019-06-29 20:00:00  \n"
     ]
    }
   ],
   "source": [
    "# Challenge 2\n",
    "\n",
    "# What data type did pandas assign values in columns 'Date' and 'Time'?\n",
    "print(type(df_combined.DATE.iloc[0]), type(df_combined.TIME.iloc[0]))\n",
    "\n",
    "# Combine 'Date' and 'Time' columns and format into a datetime object\n",
    "df_combined['DATETIME'] = pd.to_datetime(df_combined['DATE']+ ' ' + df_combined['TIME'])\n",
    "#df_combined.drop(columns=['DATE','TIME'], inplace=True, axis=1)\n",
    "print(df_combined.head())"
   ]
  },
  {
   "cell_type": "code",
   "execution_count": 5,
   "metadata": {},
   "outputs": [
    {
     "data": {
      "text/html": [
       "<div>\n",
       "<style scoped>\n",
       "    .dataframe tbody tr th:only-of-type {\n",
       "        vertical-align: middle;\n",
       "    }\n",
       "\n",
       "    .dataframe tbody tr th {\n",
       "        vertical-align: top;\n",
       "    }\n",
       "\n",
       "    .dataframe thead th {\n",
       "        text-align: right;\n",
       "    }\n",
       "</style>\n",
       "<table border=\"1\" class=\"dataframe\">\n",
       "  <thead>\n",
       "    <tr style=\"text-align: right;\">\n",
       "      <th></th>\n",
       "      <th>C/A</th>\n",
       "      <th>UNIT</th>\n",
       "      <th>SCP</th>\n",
       "      <th>STATION</th>\n",
       "      <th>LINENAME</th>\n",
       "      <th>DIVISION</th>\n",
       "      <th>DATE</th>\n",
       "      <th>TIME</th>\n",
       "      <th>DESC</th>\n",
       "      <th>ENTRIES</th>\n",
       "      <th>EXITS</th>\n",
       "      <th>DATETIME</th>\n",
       "    </tr>\n",
       "  </thead>\n",
       "  <tbody>\n",
       "    <tr>\n",
       "      <th>0</th>\n",
       "      <td>A002</td>\n",
       "      <td>R051</td>\n",
       "      <td>02-00-00</td>\n",
       "      <td>59 ST</td>\n",
       "      <td>NQR456W</td>\n",
       "      <td>BMT</td>\n",
       "      <td>06/29/2019</td>\n",
       "      <td>00:00:00</td>\n",
       "      <td>REGULAR</td>\n",
       "      <td>7116734</td>\n",
       "      <td>2410183</td>\n",
       "      <td>2019-06-29 00:00:00</td>\n",
       "    </tr>\n",
       "    <tr>\n",
       "      <th>1</th>\n",
       "      <td>A002</td>\n",
       "      <td>R051</td>\n",
       "      <td>02-00-00</td>\n",
       "      <td>59 ST</td>\n",
       "      <td>NQR456W</td>\n",
       "      <td>BMT</td>\n",
       "      <td>06/29/2019</td>\n",
       "      <td>08:00:00</td>\n",
       "      <td>REGULAR</td>\n",
       "      <td>7116770</td>\n",
       "      <td>2410218</td>\n",
       "      <td>2019-06-29 08:00:00</td>\n",
       "    </tr>\n",
       "    <tr>\n",
       "      <th>2</th>\n",
       "      <td>A002</td>\n",
       "      <td>R051</td>\n",
       "      <td>02-00-00</td>\n",
       "      <td>59 ST</td>\n",
       "      <td>NQR456W</td>\n",
       "      <td>BMT</td>\n",
       "      <td>06/29/2019</td>\n",
       "      <td>12:00:00</td>\n",
       "      <td>REGULAR</td>\n",
       "      <td>7116856</td>\n",
       "      <td>2410288</td>\n",
       "      <td>2019-06-29 12:00:00</td>\n",
       "    </tr>\n",
       "    <tr>\n",
       "      <th>3</th>\n",
       "      <td>A002</td>\n",
       "      <td>R051</td>\n",
       "      <td>02-00-00</td>\n",
       "      <td>59 ST</td>\n",
       "      <td>NQR456W</td>\n",
       "      <td>BMT</td>\n",
       "      <td>06/29/2019</td>\n",
       "      <td>16:00:00</td>\n",
       "      <td>REGULAR</td>\n",
       "      <td>7117076</td>\n",
       "      <td>2410346</td>\n",
       "      <td>2019-06-29 16:00:00</td>\n",
       "    </tr>\n",
       "    <tr>\n",
       "      <th>4</th>\n",
       "      <td>A002</td>\n",
       "      <td>R051</td>\n",
       "      <td>02-00-00</td>\n",
       "      <td>59 ST</td>\n",
       "      <td>NQR456W</td>\n",
       "      <td>BMT</td>\n",
       "      <td>06/29/2019</td>\n",
       "      <td>20:00:00</td>\n",
       "      <td>REGULAR</td>\n",
       "      <td>7117340</td>\n",
       "      <td>2410387</td>\n",
       "      <td>2019-06-29 20:00:00</td>\n",
       "    </tr>\n",
       "  </tbody>\n",
       "</table>\n",
       "</div>"
      ],
      "text/plain": [
       "    C/A  UNIT       SCP STATION LINENAME DIVISION        DATE      TIME  \\\n",
       "0  A002  R051  02-00-00   59 ST  NQR456W      BMT  06/29/2019  00:00:00   \n",
       "1  A002  R051  02-00-00   59 ST  NQR456W      BMT  06/29/2019  08:00:00   \n",
       "2  A002  R051  02-00-00   59 ST  NQR456W      BMT  06/29/2019  12:00:00   \n",
       "3  A002  R051  02-00-00   59 ST  NQR456W      BMT  06/29/2019  16:00:00   \n",
       "4  A002  R051  02-00-00   59 ST  NQR456W      BMT  06/29/2019  20:00:00   \n",
       "\n",
       "      DESC  ENTRIES    EXITS            DATETIME  \n",
       "0  REGULAR  7116734  2410183 2019-06-29 00:00:00  \n",
       "1  REGULAR  7116770  2410218 2019-06-29 08:00:00  \n",
       "2  REGULAR  7116856  2410288 2019-06-29 12:00:00  \n",
       "3  REGULAR  7117076  2410346 2019-06-29 16:00:00  \n",
       "4  REGULAR  7117340  2410387 2019-06-29 20:00:00  "
      ]
     },
     "execution_count": 5,
     "metadata": {},
     "output_type": "execute_result"
    }
   ],
   "source": [
    "df_combined.head()"
   ]
  },
  {
   "cell_type": "code",
   "execution_count": 6,
   "metadata": {},
   "outputs": [],
   "source": [
    "# group by turnstile and date, take the first value for each day\n",
    "turnstiles_daily = (df_combined\n",
    "                        .groupby([\"C/A\", \"UNIT\", \"SCP\", \"STATION\", \"DATE\"],as_index=False)\n",
    "                        .first())"
   ]
  },
  {
   "cell_type": "code",
   "execution_count": 7,
   "metadata": {},
   "outputs": [
    {
     "data": {
      "text/html": [
       "<div>\n",
       "<style scoped>\n",
       "    .dataframe tbody tr th:only-of-type {\n",
       "        vertical-align: middle;\n",
       "    }\n",
       "\n",
       "    .dataframe tbody tr th {\n",
       "        vertical-align: top;\n",
       "    }\n",
       "\n",
       "    .dataframe thead th {\n",
       "        text-align: right;\n",
       "    }\n",
       "</style>\n",
       "<table border=\"1\" class=\"dataframe\">\n",
       "  <thead>\n",
       "    <tr style=\"text-align: right;\">\n",
       "      <th></th>\n",
       "      <th>C/A</th>\n",
       "      <th>UNIT</th>\n",
       "      <th>SCP</th>\n",
       "      <th>STATION</th>\n",
       "      <th>DATE</th>\n",
       "      <th>LINENAME</th>\n",
       "      <th>DIVISION</th>\n",
       "      <th>TIME</th>\n",
       "      <th>DESC</th>\n",
       "      <th>ENTRIES</th>\n",
       "      <th>EXITS</th>\n",
       "      <th>DATETIME</th>\n",
       "    </tr>\n",
       "  </thead>\n",
       "  <tbody>\n",
       "    <tr>\n",
       "      <th>0</th>\n",
       "      <td>A002</td>\n",
       "      <td>R051</td>\n",
       "      <td>02-00-00</td>\n",
       "      <td>59 ST</td>\n",
       "      <td>06/29/2019</td>\n",
       "      <td>NQR456W</td>\n",
       "      <td>BMT</td>\n",
       "      <td>00:00:00</td>\n",
       "      <td>REGULAR</td>\n",
       "      <td>7116734</td>\n",
       "      <td>2410183</td>\n",
       "      <td>2019-06-29</td>\n",
       "    </tr>\n",
       "    <tr>\n",
       "      <th>1</th>\n",
       "      <td>A002</td>\n",
       "      <td>R051</td>\n",
       "      <td>02-00-00</td>\n",
       "      <td>59 ST</td>\n",
       "      <td>06/30/2019</td>\n",
       "      <td>NQR456W</td>\n",
       "      <td>BMT</td>\n",
       "      <td>00:00:00</td>\n",
       "      <td>REGULAR</td>\n",
       "      <td>7117480</td>\n",
       "      <td>2410406</td>\n",
       "      <td>2019-06-30</td>\n",
       "    </tr>\n",
       "    <tr>\n",
       "      <th>2</th>\n",
       "      <td>A002</td>\n",
       "      <td>R051</td>\n",
       "      <td>02-00-00</td>\n",
       "      <td>59 ST</td>\n",
       "      <td>07/01/2019</td>\n",
       "      <td>NQR456W</td>\n",
       "      <td>BMT</td>\n",
       "      <td>00:00:00</td>\n",
       "      <td>REGULAR</td>\n",
       "      <td>7118119</td>\n",
       "      <td>2410590</td>\n",
       "      <td>2019-07-01</td>\n",
       "    </tr>\n",
       "    <tr>\n",
       "      <th>3</th>\n",
       "      <td>A002</td>\n",
       "      <td>R051</td>\n",
       "      <td>02-00-00</td>\n",
       "      <td>59 ST</td>\n",
       "      <td>07/02/2019</td>\n",
       "      <td>NQR456W</td>\n",
       "      <td>BMT</td>\n",
       "      <td>00:00:00</td>\n",
       "      <td>REGULAR</td>\n",
       "      <td>7119610</td>\n",
       "      <td>2410993</td>\n",
       "      <td>2019-07-02</td>\n",
       "    </tr>\n",
       "    <tr>\n",
       "      <th>4</th>\n",
       "      <td>A002</td>\n",
       "      <td>R051</td>\n",
       "      <td>02-00-00</td>\n",
       "      <td>59 ST</td>\n",
       "      <td>07/03/2019</td>\n",
       "      <td>NQR456W</td>\n",
       "      <td>BMT</td>\n",
       "      <td>00:00:00</td>\n",
       "      <td>REGULAR</td>\n",
       "      <td>7121181</td>\n",
       "      <td>2411468</td>\n",
       "      <td>2019-07-03</td>\n",
       "    </tr>\n",
       "  </tbody>\n",
       "</table>\n",
       "</div>"
      ],
      "text/plain": [
       "    C/A  UNIT       SCP STATION        DATE LINENAME DIVISION      TIME  \\\n",
       "0  A002  R051  02-00-00   59 ST  06/29/2019  NQR456W      BMT  00:00:00   \n",
       "1  A002  R051  02-00-00   59 ST  06/30/2019  NQR456W      BMT  00:00:00   \n",
       "2  A002  R051  02-00-00   59 ST  07/01/2019  NQR456W      BMT  00:00:00   \n",
       "3  A002  R051  02-00-00   59 ST  07/02/2019  NQR456W      BMT  00:00:00   \n",
       "4  A002  R051  02-00-00   59 ST  07/03/2019  NQR456W      BMT  00:00:00   \n",
       "\n",
       "      DESC  ENTRIES    EXITS   DATETIME  \n",
       "0  REGULAR  7116734  2410183 2019-06-29  \n",
       "1  REGULAR  7117480  2410406 2019-06-30  \n",
       "2  REGULAR  7118119  2410590 2019-07-01  \n",
       "3  REGULAR  7119610  2410993 2019-07-02  \n",
       "4  REGULAR  7121181  2411468 2019-07-03  "
      ]
     },
     "execution_count": 7,
     "metadata": {},
     "output_type": "execute_result"
    }
   ],
   "source": [
    "turnstiles_daily.head()"
   ]
  },
  {
   "cell_type": "code",
   "execution_count": 8,
   "metadata": {},
   "outputs": [
    {
     "name": "stderr",
     "output_type": "stream",
     "text": [
      "<ipython-input-8-a52010f25ff0>:1: FutureWarning: Indexing with multiple keys (implicitly converted to a tuple of keys) will be deprecated, use a list instead.\n",
      "  turnstiles_daily[[\"PREV_DATE\", \"PREV_ENTRIES\", \"PREV_EXITS\"]] = (turnstiles_daily\n"
     ]
    }
   ],
   "source": [
    "turnstiles_daily[[\"PREV_DATE\", \"PREV_ENTRIES\", \"PREV_EXITS\"]] = (turnstiles_daily\n",
    "                                                       .groupby([\"C/A\", \"UNIT\", \"SCP\", \"STATION\"])[\"DATE\", \"ENTRIES\", \"EXITS\"]\n",
    "                                                       .apply(lambda grp: grp.shift(1)))"
   ]
  },
  {
   "cell_type": "code",
   "execution_count": 9,
   "metadata": {},
   "outputs": [
    {
     "data": {
      "text/html": [
       "<div>\n",
       "<style scoped>\n",
       "    .dataframe tbody tr th:only-of-type {\n",
       "        vertical-align: middle;\n",
       "    }\n",
       "\n",
       "    .dataframe tbody tr th {\n",
       "        vertical-align: top;\n",
       "    }\n",
       "\n",
       "    .dataframe thead th {\n",
       "        text-align: right;\n",
       "    }\n",
       "</style>\n",
       "<table border=\"1\" class=\"dataframe\">\n",
       "  <thead>\n",
       "    <tr style=\"text-align: right;\">\n",
       "      <th></th>\n",
       "      <th>C/A</th>\n",
       "      <th>UNIT</th>\n",
       "      <th>SCP</th>\n",
       "      <th>STATION</th>\n",
       "      <th>DATE</th>\n",
       "      <th>LINENAME</th>\n",
       "      <th>DIVISION</th>\n",
       "      <th>TIME</th>\n",
       "      <th>DESC</th>\n",
       "      <th>ENTRIES</th>\n",
       "      <th>EXITS</th>\n",
       "      <th>DATETIME</th>\n",
       "      <th>PREV_DATE</th>\n",
       "      <th>PREV_ENTRIES</th>\n",
       "      <th>PREV_EXITS</th>\n",
       "    </tr>\n",
       "  </thead>\n",
       "  <tbody>\n",
       "    <tr>\n",
       "      <th>0</th>\n",
       "      <td>A002</td>\n",
       "      <td>R051</td>\n",
       "      <td>02-00-00</td>\n",
       "      <td>59 ST</td>\n",
       "      <td>06/29/2019</td>\n",
       "      <td>NQR456W</td>\n",
       "      <td>BMT</td>\n",
       "      <td>00:00:00</td>\n",
       "      <td>REGULAR</td>\n",
       "      <td>7116734</td>\n",
       "      <td>2410183</td>\n",
       "      <td>2019-06-29</td>\n",
       "      <td>NaN</td>\n",
       "      <td>NaN</td>\n",
       "      <td>NaN</td>\n",
       "    </tr>\n",
       "    <tr>\n",
       "      <th>1</th>\n",
       "      <td>A002</td>\n",
       "      <td>R051</td>\n",
       "      <td>02-00-00</td>\n",
       "      <td>59 ST</td>\n",
       "      <td>06/30/2019</td>\n",
       "      <td>NQR456W</td>\n",
       "      <td>BMT</td>\n",
       "      <td>00:00:00</td>\n",
       "      <td>REGULAR</td>\n",
       "      <td>7117480</td>\n",
       "      <td>2410406</td>\n",
       "      <td>2019-06-30</td>\n",
       "      <td>06/29/2019</td>\n",
       "      <td>7116734.0</td>\n",
       "      <td>2410183.0</td>\n",
       "    </tr>\n",
       "    <tr>\n",
       "      <th>2</th>\n",
       "      <td>A002</td>\n",
       "      <td>R051</td>\n",
       "      <td>02-00-00</td>\n",
       "      <td>59 ST</td>\n",
       "      <td>07/01/2019</td>\n",
       "      <td>NQR456W</td>\n",
       "      <td>BMT</td>\n",
       "      <td>00:00:00</td>\n",
       "      <td>REGULAR</td>\n",
       "      <td>7118119</td>\n",
       "      <td>2410590</td>\n",
       "      <td>2019-07-01</td>\n",
       "      <td>06/30/2019</td>\n",
       "      <td>7117480.0</td>\n",
       "      <td>2410406.0</td>\n",
       "    </tr>\n",
       "    <tr>\n",
       "      <th>3</th>\n",
       "      <td>A002</td>\n",
       "      <td>R051</td>\n",
       "      <td>02-00-00</td>\n",
       "      <td>59 ST</td>\n",
       "      <td>07/02/2019</td>\n",
       "      <td>NQR456W</td>\n",
       "      <td>BMT</td>\n",
       "      <td>00:00:00</td>\n",
       "      <td>REGULAR</td>\n",
       "      <td>7119610</td>\n",
       "      <td>2410993</td>\n",
       "      <td>2019-07-02</td>\n",
       "      <td>07/01/2019</td>\n",
       "      <td>7118119.0</td>\n",
       "      <td>2410590.0</td>\n",
       "    </tr>\n",
       "    <tr>\n",
       "      <th>4</th>\n",
       "      <td>A002</td>\n",
       "      <td>R051</td>\n",
       "      <td>02-00-00</td>\n",
       "      <td>59 ST</td>\n",
       "      <td>07/03/2019</td>\n",
       "      <td>NQR456W</td>\n",
       "      <td>BMT</td>\n",
       "      <td>00:00:00</td>\n",
       "      <td>REGULAR</td>\n",
       "      <td>7121181</td>\n",
       "      <td>2411468</td>\n",
       "      <td>2019-07-03</td>\n",
       "      <td>07/02/2019</td>\n",
       "      <td>7119610.0</td>\n",
       "      <td>2410993.0</td>\n",
       "    </tr>\n",
       "  </tbody>\n",
       "</table>\n",
       "</div>"
      ],
      "text/plain": [
       "    C/A  UNIT       SCP STATION        DATE LINENAME DIVISION      TIME  \\\n",
       "0  A002  R051  02-00-00   59 ST  06/29/2019  NQR456W      BMT  00:00:00   \n",
       "1  A002  R051  02-00-00   59 ST  06/30/2019  NQR456W      BMT  00:00:00   \n",
       "2  A002  R051  02-00-00   59 ST  07/01/2019  NQR456W      BMT  00:00:00   \n",
       "3  A002  R051  02-00-00   59 ST  07/02/2019  NQR456W      BMT  00:00:00   \n",
       "4  A002  R051  02-00-00   59 ST  07/03/2019  NQR456W      BMT  00:00:00   \n",
       "\n",
       "      DESC  ENTRIES    EXITS   DATETIME   PREV_DATE  PREV_ENTRIES  PREV_EXITS  \n",
       "0  REGULAR  7116734  2410183 2019-06-29         NaN           NaN         NaN  \n",
       "1  REGULAR  7117480  2410406 2019-06-30  06/29/2019     7116734.0   2410183.0  \n",
       "2  REGULAR  7118119  2410590 2019-07-01  06/30/2019     7117480.0   2410406.0  \n",
       "3  REGULAR  7119610  2410993 2019-07-02  07/01/2019     7118119.0   2410590.0  \n",
       "4  REGULAR  7121181  2411468 2019-07-03  07/02/2019     7119610.0   2410993.0  "
      ]
     },
     "execution_count": 9,
     "metadata": {},
     "output_type": "execute_result"
    }
   ],
   "source": [
    "turnstiles_daily.head()"
   ]
  },
  {
   "cell_type": "code",
   "execution_count": 10,
   "metadata": {},
   "outputs": [],
   "source": [
    "# remove NaN\n",
    "turnstiles_daily.dropna(subset=['PREV_DATE'],axis=0,inplace=True)"
   ]
  },
  {
   "cell_type": "code",
   "execution_count": 11,
   "metadata": {},
   "outputs": [
    {
     "data": {
      "text/html": [
       "<div>\n",
       "<style scoped>\n",
       "    .dataframe tbody tr th:only-of-type {\n",
       "        vertical-align: middle;\n",
       "    }\n",
       "\n",
       "    .dataframe tbody tr th {\n",
       "        vertical-align: top;\n",
       "    }\n",
       "\n",
       "    .dataframe thead th {\n",
       "        text-align: right;\n",
       "    }\n",
       "</style>\n",
       "<table border=\"1\" class=\"dataframe\">\n",
       "  <thead>\n",
       "    <tr style=\"text-align: right;\">\n",
       "      <th></th>\n",
       "      <th>C/A</th>\n",
       "      <th>UNIT</th>\n",
       "      <th>SCP</th>\n",
       "      <th>STATION</th>\n",
       "      <th>DATE</th>\n",
       "      <th>LINENAME</th>\n",
       "      <th>DIVISION</th>\n",
       "      <th>TIME</th>\n",
       "      <th>DESC</th>\n",
       "      <th>ENTRIES</th>\n",
       "      <th>EXITS</th>\n",
       "      <th>DATETIME</th>\n",
       "      <th>PREV_DATE</th>\n",
       "      <th>PREV_ENTRIES</th>\n",
       "      <th>PREV_EXITS</th>\n",
       "    </tr>\n",
       "  </thead>\n",
       "  <tbody>\n",
       "    <tr>\n",
       "      <th>1</th>\n",
       "      <td>A002</td>\n",
       "      <td>R051</td>\n",
       "      <td>02-00-00</td>\n",
       "      <td>59 ST</td>\n",
       "      <td>06/30/2019</td>\n",
       "      <td>NQR456W</td>\n",
       "      <td>BMT</td>\n",
       "      <td>00:00:00</td>\n",
       "      <td>REGULAR</td>\n",
       "      <td>7117480</td>\n",
       "      <td>2410406</td>\n",
       "      <td>2019-06-30</td>\n",
       "      <td>06/29/2019</td>\n",
       "      <td>7116734.0</td>\n",
       "      <td>2410183.0</td>\n",
       "    </tr>\n",
       "    <tr>\n",
       "      <th>2</th>\n",
       "      <td>A002</td>\n",
       "      <td>R051</td>\n",
       "      <td>02-00-00</td>\n",
       "      <td>59 ST</td>\n",
       "      <td>07/01/2019</td>\n",
       "      <td>NQR456W</td>\n",
       "      <td>BMT</td>\n",
       "      <td>00:00:00</td>\n",
       "      <td>REGULAR</td>\n",
       "      <td>7118119</td>\n",
       "      <td>2410590</td>\n",
       "      <td>2019-07-01</td>\n",
       "      <td>06/30/2019</td>\n",
       "      <td>7117480.0</td>\n",
       "      <td>2410406.0</td>\n",
       "    </tr>\n",
       "    <tr>\n",
       "      <th>3</th>\n",
       "      <td>A002</td>\n",
       "      <td>R051</td>\n",
       "      <td>02-00-00</td>\n",
       "      <td>59 ST</td>\n",
       "      <td>07/02/2019</td>\n",
       "      <td>NQR456W</td>\n",
       "      <td>BMT</td>\n",
       "      <td>00:00:00</td>\n",
       "      <td>REGULAR</td>\n",
       "      <td>7119610</td>\n",
       "      <td>2410993</td>\n",
       "      <td>2019-07-02</td>\n",
       "      <td>07/01/2019</td>\n",
       "      <td>7118119.0</td>\n",
       "      <td>2410590.0</td>\n",
       "    </tr>\n",
       "    <tr>\n",
       "      <th>4</th>\n",
       "      <td>A002</td>\n",
       "      <td>R051</td>\n",
       "      <td>02-00-00</td>\n",
       "      <td>59 ST</td>\n",
       "      <td>07/03/2019</td>\n",
       "      <td>NQR456W</td>\n",
       "      <td>BMT</td>\n",
       "      <td>00:00:00</td>\n",
       "      <td>REGULAR</td>\n",
       "      <td>7121181</td>\n",
       "      <td>2411468</td>\n",
       "      <td>2019-07-03</td>\n",
       "      <td>07/02/2019</td>\n",
       "      <td>7119610.0</td>\n",
       "      <td>2410993.0</td>\n",
       "    </tr>\n",
       "    <tr>\n",
       "      <th>5</th>\n",
       "      <td>A002</td>\n",
       "      <td>R051</td>\n",
       "      <td>02-00-00</td>\n",
       "      <td>59 ST</td>\n",
       "      <td>07/04/2019</td>\n",
       "      <td>NQR456W</td>\n",
       "      <td>BMT</td>\n",
       "      <td>00:00:00</td>\n",
       "      <td>REGULAR</td>\n",
       "      <td>7122652</td>\n",
       "      <td>2411887</td>\n",
       "      <td>2019-07-04</td>\n",
       "      <td>07/03/2019</td>\n",
       "      <td>7121181.0</td>\n",
       "      <td>2411468.0</td>\n",
       "    </tr>\n",
       "  </tbody>\n",
       "</table>\n",
       "</div>"
      ],
      "text/plain": [
       "    C/A  UNIT       SCP STATION        DATE LINENAME DIVISION      TIME  \\\n",
       "1  A002  R051  02-00-00   59 ST  06/30/2019  NQR456W      BMT  00:00:00   \n",
       "2  A002  R051  02-00-00   59 ST  07/01/2019  NQR456W      BMT  00:00:00   \n",
       "3  A002  R051  02-00-00   59 ST  07/02/2019  NQR456W      BMT  00:00:00   \n",
       "4  A002  R051  02-00-00   59 ST  07/03/2019  NQR456W      BMT  00:00:00   \n",
       "5  A002  R051  02-00-00   59 ST  07/04/2019  NQR456W      BMT  00:00:00   \n",
       "\n",
       "      DESC  ENTRIES    EXITS   DATETIME   PREV_DATE  PREV_ENTRIES  PREV_EXITS  \n",
       "1  REGULAR  7117480  2410406 2019-06-30  06/29/2019     7116734.0   2410183.0  \n",
       "2  REGULAR  7118119  2410590 2019-07-01  06/30/2019     7117480.0   2410406.0  \n",
       "3  REGULAR  7119610  2410993 2019-07-02  07/01/2019     7118119.0   2410590.0  \n",
       "4  REGULAR  7121181  2411468 2019-07-03  07/02/2019     7119610.0   2410993.0  \n",
       "5  REGULAR  7122652  2411887 2019-07-04  07/03/2019     7121181.0   2411468.0  "
      ]
     },
     "execution_count": 11,
     "metadata": {},
     "output_type": "execute_result"
    }
   ],
   "source": [
    "turnstiles_daily.head()"
   ]
  },
  {
   "cell_type": "code",
   "execution_count": 12,
   "metadata": {},
   "outputs": [
    {
     "data": {
      "text/plain": [
       "C/A   UNIT  SCP       STATION        \n",
       "A002  R051  02-06-00  59 ST               1\n",
       "A007  R079  01-05-01  5 AV/59 ST          1\n",
       "A011  R080  01-03-00  57 ST-7 AV         10\n",
       "A025  R023  01-03-01  34 ST-HERALD SQ    62\n",
       "A035  R170  00-00-01  14 ST-UNION SQ      1\n",
       "                                         ..\n",
       "R622  R123  00-00-00  FRANKLIN AV        62\n",
       "R629  R065  00-00-01  ROCKAWAY AV         1\n",
       "R645  R110  00-03-02  FLATBUSH AV-B.C     2\n",
       "R646  R110  01-00-01  FLATBUSH AV-B.C    62\n",
       "R730  R431  00-00-04  EASTCHSTER/DYRE    58\n",
       "Length: 193, dtype: int64"
      ]
     },
     "execution_count": 12,
     "metadata": {},
     "output_type": "execute_result"
    }
   ],
   "source": [
    "# check which stations have turnstiles with fewer ENTRIES than the previous day\n",
    "(turnstiles_daily[turnstiles_daily[\"ENTRIES\"] < turnstiles_daily[\"PREV_ENTRIES\"]]\n",
    "    .groupby([\"C/A\", \"UNIT\", \"SCP\", \"STATION\"])\n",
    "    .size())"
   ]
  },
  {
   "cell_type": "code",
   "execution_count": 13,
   "metadata": {},
   "outputs": [
    {
     "data": {
      "text/plain": [
       "C/A   UNIT  SCP       STATION        \n",
       "A002  R051  02-06-00  59 ST               1\n",
       "A007  R079  01-05-01  5 AV/59 ST          1\n",
       "A011  R080  01-03-00  57 ST-7 AV         13\n",
       "A035  R170  00-00-01  14 ST-UNION SQ      1\n",
       "A043  R462  00-03-03  CANAL ST            1\n",
       "                                         ..\n",
       "R621  R060  00-03-01  EASTN PKWY-MUSM     1\n",
       "R622  R123  00-00-00  FRANKLIN AV        62\n",
       "R629  R065  00-00-01  ROCKAWAY AV         1\n",
       "R645  R110  00-03-02  FLATBUSH AV-B.C     2\n",
       "R646  R110  01-00-01  FLATBUSH AV-B.C    62\n",
       "Length: 186, dtype: int64"
      ]
     },
     "execution_count": 13,
     "metadata": {},
     "output_type": "execute_result"
    }
   ],
   "source": [
    "# check which stations have turnstiles with fewer EXITS than the previous day\n",
    "(turnstiles_daily[turnstiles_daily[\"EXITS\"] < turnstiles_daily[\"PREV_EXITS\"]]\n",
    "    .groupby([\"C/A\", \"UNIT\", \"SCP\", \"STATION\"])\n",
    "    .size())"
   ]
  },
  {
   "cell_type": "code",
   "execution_count": null,
   "metadata": {},
   "outputs": [],
   "source": [
    "# If the counter is reversed, make negative values positive\n",
    "# If difference between days is >= 1 million, set daily ENTRIES to min value between ENTRIES and prev_ENTRIES\n",
    "def get_daily_counts(row, max_counter):\n",
    "    counter = row[\"ENTRIES\"] - row[\"PREV_ENTRIES\"]\n",
    "    if counter < 0:\n",
    "        # Maybe counter is reversed?\n",
    "        counter = -counter\n",
    "    if counter > max_counter:\n",
    "        # Maybe counter was reset to 0? \n",
    "        #print(row[\"ENTRIES\"], row[\"PREV_ENTRIES\"])\n",
    "        counter = 0\n",
    "    if counter > max_counter:\n",
    "        # Check it again to make sure we're not still giving a counter that's too big\n",
    "        return 0\n",
    "    return counter\n",
    "\n",
    "# If counter is > 1Million, then the counter might have been reset.  \n",
    "# Just set it to zero as different counters have different cycle limits\n",
    "# It'd probably be a good idea to use a number even significantly smaller than 1 million as the limit!\n",
    "turnstiles_daily[\"DAILY_ENTRIES\"] = turnstiles_daily.apply(get_daily_counts, axis=1, max_counter=1000000)"
   ]
  },
  {
   "cell_type": "code",
   "execution_count": null,
   "metadata": {},
   "outputs": [],
   "source": [
    "# If the counter is reversed, make negative values positive\n",
    "# If difference between days is >= 1 million, set daily EXITS to min value between EXITS and prev_EXITS\n",
    "def get_daily_counts(row, max_counter):\n",
    "    counter = row[\"EXITS\"] - row[\"PREV_EXITS\"]\n",
    "    if counter < 0:\n",
    "        # Maybe counter is reversed?\n",
    "        counter = -counter\n",
    "    if counter > max_counter:\n",
    "        # Maybe counter was reset to 0? \n",
    "        #print(row[\"EXITS\"], row[\"PREV_EXITS\"])\n",
    "        counter = 0\n",
    "    if counter > max_counter:\n",
    "        # Check it again to make sure we're not still giving a counter that's too big\n",
    "        return 0\n",
    "    return counter\n",
    "\n",
    "# If counter is > 1Million, then the counter might have been reset.  \n",
    "# Just set it to zero as different counters have different cycle limits\n",
    "# It'd probably be a good idea to use a number even significantly smaller than 1 million as the limit!\n",
    "turnstiles_daily[\"DAILY_EXITS\"] = turnstiles_daily.apply(get_daily_counts, axis=1, max_counter=1000000)"
   ]
  },
  {
   "cell_type": "code",
   "execution_count": null,
   "metadata": {},
   "outputs": [],
   "source": [
    "#clean entries\n",
    "mask_entries = (turnstiles_daily[\"DAILY_ENTRIES\"] != 0)\n",
    "turnstiles_daily_entries_clean = turnstiles_daily[mask_entries]"
   ]
  },
  {
   "cell_type": "code",
   "execution_count": null,
   "metadata": {},
   "outputs": [],
   "source": [
    "turnstiles_daily_entries_clean.info()"
   ]
  },
  {
   "cell_type": "code",
   "execution_count": null,
   "metadata": {},
   "outputs": [],
   "source": [
    "#clean exits from the cleaned entries df\n",
    "mask_exits = (turnstiles_daily_entries_clean[\"DAILY_EXITS\"] != 0)\n",
    "turnstiles_daily_exits_clean = turnstiles_daily_entries_clean[mask_exits]"
   ]
  },
  {
   "cell_type": "code",
   "execution_count": null,
   "metadata": {},
   "outputs": [],
   "source": [
    "turnstiles_daily_exits_clean.info()"
   ]
  },
  {
   "cell_type": "code",
   "execution_count": null,
   "metadata": {},
   "outputs": [],
   "source": [
    "#rename final cleaned entries and exits df for easier reference\n",
    "turnstiles_daily_cleaned = turnstiles_daily_exits_clean"
   ]
  },
  {
   "cell_type": "code",
   "execution_count": null,
   "metadata": {},
   "outputs": [],
   "source": [
    "turnstiles_daily_cleaned.head()"
   ]
  },
  {
   "cell_type": "code",
   "execution_count": null,
   "metadata": {},
   "outputs": [],
   "source": [
    "turnstiles_daily_cleaned['DAILY_TOTALS'] = turnstiles_daily_cleaned.apply(lambda row: row.DAILY_ENTRIES + row.DAILY_EXITS, axis=1)"
   ]
  },
  {
   "cell_type": "code",
   "execution_count": null,
   "metadata": {},
   "outputs": [],
   "source": [
    "turnstiles_daily_cleaned.head()"
   ]
  },
  {
   "cell_type": "markdown",
   "metadata": {},
   "source": [
    "# Busiest Station"
   ]
  },
  {
   "cell_type": "code",
   "execution_count": null,
   "metadata": {},
   "outputs": [],
   "source": [
    "# First get sum of all turnstiles at each station for each day\n",
    "# ...then take the average across all days\n",
    "# ...this shows the station that has the highest daily average\n",
    "busiest_stations = turnstiles_daily_cleaned.groupby(['STATION','DATE']).sum()\\\n",
    ".groupby(['STATION']).mean().sort_values('DAILY_TOTALS', ascending=False).reset_index()\n",
    "busiest_stations"
   ]
  },
  {
   "cell_type": "markdown",
   "metadata": {},
   "source": [
    "# Busiest day of the week"
   ]
  },
  {
   "cell_type": "code",
   "execution_count": null,
   "metadata": {},
   "outputs": [],
   "source": [
    "turnstiles_daily_cleaned.head()"
   ]
  },
  {
   "cell_type": "markdown",
   "metadata": {},
   "source": [
    "## ...first, the busiest day of the summer"
   ]
  },
  {
   "cell_type": "code",
   "execution_count": null,
   "metadata": {},
   "outputs": [],
   "source": [
    "# Get the sum of all turnstiles on each day for each station\n",
    "busiest_single_day = turnstiles_daily_cleaned.groupby(['STATION','DATETIME']).sum()\\\n",
    ".reset_index().sort_values('DAILY_TOTALS', ascending=False)\n",
    "busiest_single_day.head()"
   ]
  },
  {
   "cell_type": "code",
   "execution_count": null,
   "metadata": {},
   "outputs": [],
   "source": [
    "# Convert Date to day of the week\n",
    "# Monday=0, Sunday=6\n",
    "busiest_single_day[\"dayOfWeek\"] = busiest_single_day.DATETIME.dt.dayofweek\n",
    "busiest_single_day.head()"
   ]
  },
  {
   "cell_type": "markdown",
   "metadata": {},
   "source": [
    "## Average busiest days of the week"
   ]
  },
  {
   "cell_type": "code",
   "execution_count": null,
   "metadata": {},
   "outputs": [],
   "source": [
    "avg_daily = busiest_single_day.groupby(['STATION','dayOfWeek']).mean()\\\n",
    ".sort_values('DAILY_TOTALS', ascending=False)\n",
    "avg_daily.head(20)"
   ]
  },
  {
   "cell_type": "code",
   "execution_count": null,
   "metadata": {},
   "outputs": [],
   "source": []
  },
  {
   "cell_type": "code",
   "execution_count": null,
   "metadata": {},
   "outputs": [],
   "source": []
  },
  {
   "cell_type": "code",
   "execution_count": null,
   "metadata": {},
   "outputs": [],
   "source": []
  },
  {
   "cell_type": "markdown",
   "metadata": {},
   "source": [
    "# Busiest time of day"
   ]
  },
  {
   "cell_type": "code",
   "execution_count": null,
   "metadata": {},
   "outputs": [],
   "source": [
    "df_combined.head()"
   ]
  },
  {
   "cell_type": "code",
   "execution_count": null,
   "metadata": {},
   "outputs": [],
   "source": [
    "df_combined.reset_index(inplace=True)"
   ]
  },
  {
   "cell_type": "code",
   "execution_count": null,
   "metadata": {},
   "outputs": [],
   "source": [
    "# focus on just the top 30 busiest stations\n",
    "top_stations_list = busiest_stations['STATION'][0:30]\n",
    "top_stations = df_combined[df_combined['STATION'].isin(top_stations_list)]"
   ]
  },
  {
   "cell_type": "code",
   "execution_count": null,
   "metadata": {},
   "outputs": [],
   "source": [
    "# Add day of the week so we can later group by day\n",
    "top_stations[\"dayOfWeek\"] = top_stations.DATETIME.dt.dayofweek"
   ]
  },
  {
   "cell_type": "code",
   "execution_count": null,
   "metadata": {},
   "outputs": [],
   "source": [
    "top_stations.head()"
   ]
  },
  {
   "cell_type": "code",
   "execution_count": null,
   "metadata": {},
   "outputs": [],
   "source": [
    "top_stations[[\"PREV_TIME\", \"PREV_ENTRIES\", \"PREV_EXITS\"]] = (\\\n",
    "top_stations.groupby([\"C/A\", \"UNIT\", \"SCP\", \"STATION\", \"DATE\"])[\"TIME\", \"ENTRIES\", \"EXITS\"]\\\n",
    ".apply(lambda grp: grp.shift(1)))"
   ]
  },
  {
   "cell_type": "code",
   "execution_count": null,
   "metadata": {},
   "outputs": [],
   "source": [
    "top_stations.head()"
   ]
  },
  {
   "cell_type": "code",
   "execution_count": null,
   "metadata": {},
   "outputs": [],
   "source": [
    "#11\n",
    "# remove NaN\n",
    "top_stations.dropna(subset=['PREV_TIME'],axis=0,inplace=True)\n",
    "top_stations.head()"
   ]
  },
  {
   "cell_type": "code",
   "execution_count": null,
   "metadata": {},
   "outputs": [],
   "source": [
    "#13\n",
    "# check which stations have turnstiles with fewer ENTRIES than the previous day\n",
    "(top_stations[top_stations[\"ENTRIES\"] < top_stations[\"PREV_ENTRIES\"]]\n",
    "    .groupby([\"C/A\", \"UNIT\", \"SCP\", \"STATION\"])\n",
    "    .size())"
   ]
  },
  {
   "cell_type": "code",
   "execution_count": null,
   "metadata": {},
   "outputs": [],
   "source": [
    "#14\n",
    "# check which stations have turnstiles with fewer EXITS than the previous day\n",
    "(top_stations[top_stations[\"EXITS\"] < top_stations[\"PREV_EXITS\"]]\n",
    "    .groupby([\"C/A\", \"UNIT\", \"SCP\", \"STATION\"])\n",
    "    .size())"
   ]
  },
  {
   "cell_type": "code",
   "execution_count": null,
   "metadata": {},
   "outputs": [],
   "source": [
    "#15\n",
    "# If the counter is reversed, make negative values positive\n",
    "# If difference between days is >= 20,000 , set daily ENTRIES to min value between ENTRIES and prev_ENTRIES\n",
    "def get_daily_counts(row, max_counter):\n",
    "    counter = row[\"ENTRIES\"] - row[\"PREV_ENTRIES\"]\n",
    "    if counter < 0:\n",
    "        # Maybe counter is reversed?\n",
    "        counter = -counter\n",
    "    if counter > max_counter:\n",
    "        # Maybe counter was reset to 0? \n",
    "        #print(row[\"ENTRIES\"], row[\"PREV_ENTRIES\"])\n",
    "        counter = 0\n",
    "    if counter > max_counter:\n",
    "        # Check it again to make sure we're not still giving a counter that's too big\n",
    "        return 0\n",
    "    return counter\n",
    "\n",
    "# If counter is > 1Million, then the counter might have been reset.  \n",
    "# Just set it to zero as different counters have different cycle limits\n",
    "# It'd probably be a good idea to use a number even significantly smaller than 1 million as the limit!\n",
    "top_stations[\"DAILY_ENTRIES\"] = top_stations.apply(get_daily_counts, axis=1, max_counter=20000)"
   ]
  },
  {
   "cell_type": "code",
   "execution_count": null,
   "metadata": {},
   "outputs": [],
   "source": [
    "#16\n",
    "# If the counter is reversed, make negative values positive\n",
    "# If difference between days is >= 20,000, set daily EXITS to min value between EXITS and prev_EXITS\n",
    "def get_daily_counts(row, max_counter):\n",
    "    counter = row[\"EXITS\"] - row[\"PREV_EXITS\"]\n",
    "    if counter < 0:\n",
    "        # Maybe counter is reversed?\n",
    "        counter = -counter\n",
    "    if counter > max_counter:\n",
    "        # Maybe counter was reset to 0? \n",
    "        #print(row[\"EXITS\"], row[\"PREV_EXITS\"])\n",
    "        counter = 0\n",
    "    if counter > max_counter:\n",
    "        # Check it again to make sure we're not still giving a counter that's too big\n",
    "        return 0\n",
    "    return counter\n",
    "\n",
    "# If counter is > 1Million, then the counter might have been reset.  \n",
    "# Just set it to zero as different counters have different cycle limits\n",
    "# It'd probably be a good idea to use a number even significantly smaller than 1 million as the limit!\n",
    "top_stations[\"DAILY_EXITS\"] = top_stations.apply(get_daily_counts, axis=1, max_counter=20000)"
   ]
  },
  {
   "cell_type": "code",
   "execution_count": null,
   "metadata": {},
   "outputs": [],
   "source": [
    "#17\n",
    "#clean entries\n",
    "mask_entries = (top_stations[\"DAILY_ENTRIES\"] != 0)\n",
    "top_stations_clean = top_stations[mask_entries]"
   ]
  },
  {
   "cell_type": "code",
   "execution_count": null,
   "metadata": {},
   "outputs": [],
   "source": [
    "top_stations_clean.head()"
   ]
  },
  {
   "cell_type": "code",
   "execution_count": null,
   "metadata": {},
   "outputs": [],
   "source": [
    "#19\n",
    "#clean exits from the cleaned entries df\n",
    "mask_exits = (top_stations_clean[\"DAILY_EXITS\"] != 0)\n",
    "top_stations_clean = top_stations_clean[mask_exits]"
   ]
  },
  {
   "cell_type": "code",
   "execution_count": null,
   "metadata": {},
   "outputs": [],
   "source": [
    "top_stations_clean.head()"
   ]
  },
  {
   "cell_type": "code",
   "execution_count": null,
   "metadata": {},
   "outputs": [],
   "source": [
    "top_stations_clean['DAILY_TOTALS'] = top_stations_clean.apply(lambda row: row.DAILY_ENTRIES + row.DAILY_EXITS, axis=1)"
   ]
  },
  {
   "cell_type": "code",
   "execution_count": null,
   "metadata": {},
   "outputs": [],
   "source": [
    "top_stations_clean.info()"
   ]
  },
  {
   "cell_type": "code",
   "execution_count": null,
   "metadata": {},
   "outputs": [],
   "source": [
    "top_stations_clean['dtTIME'] = pd.to_datetime(top_stations_clean['TIME'], format=\"%H:%M:%S\").dt.time\n",
    "top_stations_clean['dtPREV_TIME'] = pd.to_datetime(top_stations_clean['PREV_TIME'], format=\"%H:%M:%S\").dt.time"
   ]
  },
  {
   "cell_type": "code",
   "execution_count": null,
   "metadata": {},
   "outputs": [],
   "source": [
    "top_stations_clean.head()"
   ]
  },
  {
   "cell_type": "code",
   "execution_count": null,
   "metadata": {},
   "outputs": [],
   "source": [
    "import datetime\n",
    "time_morning = datetime.datetime.strptime('08:00:00', '%H:%M:%S').time()\n",
    "time_noon = datetime.datetime.strptime('12:00:00', '%H:%M:%S').time()\n",
    "time_afternoon = datetime.datetime.strptime('16:00:00', '%H:%M:%S').time()\n",
    "time_evening = datetime.datetime.strptime('20:00:00', '%H:%M:%S').time()"
   ]
  },
  {
   "cell_type": "code",
   "execution_count": null,
   "metadata": {},
   "outputs": [],
   "source": [
    "mask = ((top_stations_clean['dtPREV_TIME'] >= time_morning) & (top_stations_clean['dtTIME'] <= time_noon))\n",
    "morning_stations = top_stations_clean[mask]\n",
    "morning_stations"
   ]
  },
  {
   "cell_type": "code",
   "execution_count": null,
   "metadata": {},
   "outputs": [],
   "source": [
    "mask = ((top_stations_clean['dtPREV_TIME'] >= time_noon) & (top_stations_clean['dtTIME'] <= time_afternoon))\n",
    "afternoon_stations = top_stations_clean[mask]\n",
    "afternoon_stations"
   ]
  },
  {
   "cell_type": "code",
   "execution_count": null,
   "metadata": {},
   "outputs": [],
   "source": [
    "mask = ((top_stations_clean['dtPREV_TIME'] >= time_afternoon) & (top_stations_clean['dtTIME'] <= time_evening))\n",
    "evening_stations = top_stations_clean[mask]\n",
    "evening_stations"
   ]
  },
  {
   "cell_type": "code",
   "execution_count": null,
   "metadata": {},
   "outputs": [],
   "source": [
    "# First add up turnstiles for each station on each date\n",
    "# then take the average across all days\n",
    "\n",
    "morning_group = morning_stations.groupby(['STATION','DATE']).sum()\\\n",
    ".groupby(['STATION','dayOfWeek']).mean().sort_values('DAILY_TOTALS', ascending=False).reset_index()\n",
    "\n",
    "afternoon_group = afternoon_stations.groupby(['STATION','DATE']).sum()\\\n",
    ".groupby(['STATION','dayOfWeek']).mean().sort_values('DAILY_TOTALS', ascending=False).reset_index()\n",
    "\n",
    "evening_group = evening_stations.groupby(['STATION','DATE']).sum()\\\n",
    ".groupby(['STATION','dayOfWeek']).mean().sort_values('DAILY_TOTALS', ascending=False).reset_index()\n",
    "\n",
    "\n"
   ]
  },
  {
   "cell_type": "code",
   "execution_count": null,
   "metadata": {},
   "outputs": [],
   "source": []
  },
  {
   "cell_type": "code",
   "execution_count": null,
   "metadata": {},
   "outputs": [],
   "source": []
  },
  {
   "cell_type": "code",
   "execution_count": null,
   "metadata": {},
   "outputs": [],
   "source": []
  },
  {
   "cell_type": "code",
   "execution_count": null,
   "metadata": {},
   "outputs": [],
   "source": []
  }
 ],
 "metadata": {
  "kernelspec": {
   "display_name": "Python 3",
   "language": "python",
   "name": "python3"
  },
  "language_info": {
   "codemirror_mode": {
    "name": "ipython",
    "version": 3
   },
   "file_extension": ".py",
   "mimetype": "text/x-python",
   "name": "python",
   "nbconvert_exporter": "python",
   "pygments_lexer": "ipython3",
   "version": "3.8.3"
  }
 },
 "nbformat": 4,
 "nbformat_minor": 4
}
